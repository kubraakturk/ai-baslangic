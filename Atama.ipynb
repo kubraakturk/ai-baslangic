{
 "cells": [
  {
   "cell_type": "code",
   "execution_count": 2,
   "id": "9de55bc7-155e-42ca-84ea-985f3c3aee7e",
   "metadata": {},
   "outputs": [],
   "source": [
    "isimString = \"Kübra Aktürk\""
   ]
  },
  {
   "cell_type": "code",
   "execution_count": null,
   "id": "0c0adb1e-d3f9-46cc-9113-e21a8264289a",
   "metadata": {},
   "outputs": [],
   "source": []
  },
  {
   "cell_type": "code",
   "execution_count": 3,
   "id": "306f2158-bb62-4930-8d18-3098e17cf49c",
   "metadata": {},
   "outputs": [
    {
     "data": {
      "text/plain": [
       "'Kübra Aktürk'"
      ]
     },
     "execution_count": 3,
     "metadata": {},
     "output_type": "execute_result"
    }
   ],
   "source": [
    "isimString"
   ]
  },
  {
   "cell_type": "code",
   "execution_count": 4,
   "id": "5af9118d-9416-45bb-8903-55f0f738c03b",
   "metadata": {},
   "outputs": [
    {
     "data": {
      "text/plain": [
       "' '"
      ]
     },
     "execution_count": 4,
     "metadata": {},
     "output_type": "execute_result"
    }
   ],
   "source": [
    "isimString[5]"
   ]
  },
  {
   "cell_type": "code",
   "execution_count": 5,
   "id": "150f27f9-fc93-4c53-9449-b3e01fe76049",
   "metadata": {},
   "outputs": [
    {
     "data": {
      "text/plain": [
       "'k'"
      ]
     },
     "execution_count": 5,
     "metadata": {},
     "output_type": "execute_result"
    }
   ],
   "source": [
    "isimString[7]"
   ]
  },
  {
   "cell_type": "code",
   "execution_count": 6,
   "id": "1f26a71c-68ff-43a8-b151-82d2265af389",
   "metadata": {},
   "outputs": [
    {
     "data": {
      "text/plain": [
       "'kk'"
      ]
     },
     "execution_count": 6,
     "metadata": {},
     "output_type": "execute_result"
    }
   ],
   "source": [
    "isimString[7] + isimString[-1]"
   ]
  },
  {
   "cell_type": "code",
   "execution_count": 7,
   "id": "b6d8019b-e4d5-4808-aeeb-80e0966db8a1",
   "metadata": {},
   "outputs": [
    {
     "data": {
      "text/plain": [
       "'k'"
      ]
     },
     "execution_count": 7,
     "metadata": {},
     "output_type": "execute_result"
    }
   ],
   "source": [
    "isimString[-1]"
   ]
  },
  {
   "cell_type": "code",
   "execution_count": 8,
   "id": "4e16eb26-c2ae-44f2-81c8-858a71cb6b13",
   "metadata": {},
   "outputs": [],
   "source": [
    "isimString = \"0123456789\""
   ]
  },
  {
   "cell_type": "code",
   "execution_count": 9,
   "id": "3f0636e6-212a-45cb-8895-a068c4b4a37b",
   "metadata": {},
   "outputs": [
    {
     "data": {
      "text/plain": [
       "'9'"
      ]
     },
     "execution_count": 9,
     "metadata": {},
     "output_type": "execute_result"
    }
   ],
   "source": [
    "isimString[-1]"
   ]
  },
  {
   "cell_type": "code",
   "execution_count": null,
   "id": "90f7b4aa-ac6d-46cc-a40d-f64642f5d186",
   "metadata": {},
   "outputs": [],
   "source": []
  }
 ],
 "metadata": {
  "kernelspec": {
   "display_name": "Python 3 (ipykernel)",
   "language": "python",
   "name": "python3"
  },
  "language_info": {
   "codemirror_mode": {
    "name": "ipython",
    "version": 3
   },
   "file_extension": ".py",
   "mimetype": "text/x-python",
   "name": "python",
   "nbconvert_exporter": "python",
   "pygments_lexer": "ipython3",
   "version": "3.12.7"
  }
 },
 "nbformat": 4,
 "nbformat_minor": 5
}
