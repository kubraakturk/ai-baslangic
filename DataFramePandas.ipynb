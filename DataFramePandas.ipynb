{
 "cells": [
  {
   "cell_type": "code",
   "execution_count": 1,
   "id": "b92e60af-6cbb-422f-8405-3a6ef25e975f",
   "metadata": {},
   "outputs": [],
   "source": [
    "import pandas as pd\n",
    "import numpy as np"
   ]
  },
  {
   "cell_type": "code",
   "execution_count": 4,
   "id": "f12724d5-c744-44c0-b85a-d229cd76617b",
   "metadata": {},
   "outputs": [],
   "source": [
    "data = np.random.randn(4,3)"
   ]
  },
  {
   "cell_type": "code",
   "execution_count": 5,
   "id": "7aa7a4ac-9ae0-4034-8b3d-5e41450b3315",
   "metadata": {},
   "outputs": [
    {
     "data": {
      "text/plain": [
       "array([[-0.42183653, -1.29244528,  0.76578474],\n",
       "       [-0.79629029, -0.66738657, -0.24823839],\n",
       "       [-1.0171263 , -1.76325013,  0.74982254],\n",
       "       [-0.75255227,  1.73344257, -0.11502011]])"
      ]
     },
     "execution_count": 5,
     "metadata": {},
     "output_type": "execute_result"
    }
   ],
   "source": [
    "data"
   ]
  },
  {
   "cell_type": "code",
   "execution_count": 6,
   "id": "57676d39-844c-4e03-bfb5-d7a34ae40250",
   "metadata": {},
   "outputs": [],
   "source": [
    "dataFrame = pd.DataFrame(data)"
   ]
  },
  {
   "cell_type": "code",
   "execution_count": 7,
   "id": "b1290c59-03d7-4d41-a2a7-9671880ae4d6",
   "metadata": {},
   "outputs": [
    {
     "data": {
      "text/plain": [
       "pandas.core.series.Series"
      ]
     },
     "execution_count": 7,
     "metadata": {},
     "output_type": "execute_result"
    }
   ],
   "source": [
    "type(dataFrame[0])"
   ]
  },
  {
   "cell_type": "code",
   "execution_count": 8,
   "id": "0b431d09-db60-4068-abc3-88c4522f2fb2",
   "metadata": {},
   "outputs": [
    {
     "data": {
      "text/html": [
       "<div>\n",
       "<style scoped>\n",
       "    .dataframe tbody tr th:only-of-type {\n",
       "        vertical-align: middle;\n",
       "    }\n",
       "\n",
       "    .dataframe tbody tr th {\n",
       "        vertical-align: top;\n",
       "    }\n",
       "\n",
       "    .dataframe thead th {\n",
       "        text-align: right;\n",
       "    }\n",
       "</style>\n",
       "<table border=\"1\" class=\"dataframe\">\n",
       "  <thead>\n",
       "    <tr style=\"text-align: right;\">\n",
       "      <th></th>\n",
       "      <th>0</th>\n",
       "      <th>1</th>\n",
       "      <th>2</th>\n",
       "    </tr>\n",
       "  </thead>\n",
       "  <tbody>\n",
       "    <tr>\n",
       "      <th>0</th>\n",
       "      <td>-0.421837</td>\n",
       "      <td>-1.292445</td>\n",
       "      <td>0.765785</td>\n",
       "    </tr>\n",
       "    <tr>\n",
       "      <th>1</th>\n",
       "      <td>-0.796290</td>\n",
       "      <td>-0.667387</td>\n",
       "      <td>-0.248238</td>\n",
       "    </tr>\n",
       "    <tr>\n",
       "      <th>2</th>\n",
       "      <td>-1.017126</td>\n",
       "      <td>-1.763250</td>\n",
       "      <td>0.749823</td>\n",
       "    </tr>\n",
       "    <tr>\n",
       "      <th>3</th>\n",
       "      <td>-0.752552</td>\n",
       "      <td>1.733443</td>\n",
       "      <td>-0.115020</td>\n",
       "    </tr>\n",
       "  </tbody>\n",
       "</table>\n",
       "</div>"
      ],
      "text/plain": [
       "          0         1         2\n",
       "0 -0.421837 -1.292445  0.765785\n",
       "1 -0.796290 -0.667387 -0.248238\n",
       "2 -1.017126 -1.763250  0.749823\n",
       "3 -0.752552  1.733443 -0.115020"
      ]
     },
     "execution_count": 8,
     "metadata": {},
     "output_type": "execute_result"
    }
   ],
   "source": [
    "dataFrame"
   ]
  },
  {
   "cell_type": "code",
   "execution_count": 9,
   "id": "854f1541-2787-4aea-98d9-93a28be6ad44",
   "metadata": {},
   "outputs": [],
   "source": [
    "yeniDataFrame = pd.DataFrame( data, index = [\"Kubra\",\"Zeynep\",\"Meryem\",\"Murat\"],columns = [\"Maas\",\"Yas\",\"Calisma Saati\"])"
   ]
  },
  {
   "cell_type": "code",
   "execution_count": null,
   "id": "e2865bc7-671a-4f44-8678-4c7bca3f0aa7",
   "metadata": {},
   "outputs": [],
   "source": []
  },
  {
   "cell_type": "code",
   "execution_count": 10,
   "id": "1ca3012f-c6c1-4b52-adca-d76bbc67a75a",
   "metadata": {},
   "outputs": [
    {
     "data": {
      "text/html": [
       "<div>\n",
       "<style scoped>\n",
       "    .dataframe tbody tr th:only-of-type {\n",
       "        vertical-align: middle;\n",
       "    }\n",
       "\n",
       "    .dataframe tbody tr th {\n",
       "        vertical-align: top;\n",
       "    }\n",
       "\n",
       "    .dataframe thead th {\n",
       "        text-align: right;\n",
       "    }\n",
       "</style>\n",
       "<table border=\"1\" class=\"dataframe\">\n",
       "  <thead>\n",
       "    <tr style=\"text-align: right;\">\n",
       "      <th></th>\n",
       "      <th>Maas</th>\n",
       "      <th>Yas</th>\n",
       "      <th>Calisma Saati</th>\n",
       "    </tr>\n",
       "  </thead>\n",
       "  <tbody>\n",
       "    <tr>\n",
       "      <th>Kubra</th>\n",
       "      <td>-0.421837</td>\n",
       "      <td>-1.292445</td>\n",
       "      <td>0.765785</td>\n",
       "    </tr>\n",
       "    <tr>\n",
       "      <th>Zeynep</th>\n",
       "      <td>-0.796290</td>\n",
       "      <td>-0.667387</td>\n",
       "      <td>-0.248238</td>\n",
       "    </tr>\n",
       "    <tr>\n",
       "      <th>Meryem</th>\n",
       "      <td>-1.017126</td>\n",
       "      <td>-1.763250</td>\n",
       "      <td>0.749823</td>\n",
       "    </tr>\n",
       "    <tr>\n",
       "      <th>Murat</th>\n",
       "      <td>-0.752552</td>\n",
       "      <td>1.733443</td>\n",
       "      <td>-0.115020</td>\n",
       "    </tr>\n",
       "  </tbody>\n",
       "</table>\n",
       "</div>"
      ],
      "text/plain": [
       "            Maas       Yas  Calisma Saati\n",
       "Kubra  -0.421837 -1.292445       0.765785\n",
       "Zeynep -0.796290 -0.667387      -0.248238\n",
       "Meryem -1.017126 -1.763250       0.749823\n",
       "Murat  -0.752552  1.733443      -0.115020"
      ]
     },
     "execution_count": 10,
     "metadata": {},
     "output_type": "execute_result"
    }
   ],
   "source": [
    "yeniDataFrame"
   ]
  },
  {
   "cell_type": "code",
   "execution_count": 11,
   "id": "2f3bf345-e4cd-4111-ba6f-4a9153d12fce",
   "metadata": {},
   "outputs": [
    {
     "data": {
      "text/plain": [
       "Kubra    -1.292445\n",
       "Zeynep   -0.667387\n",
       "Meryem   -1.763250\n",
       "Murat     1.733443\n",
       "Name: Yas, dtype: float64"
      ]
     },
     "execution_count": 11,
     "metadata": {},
     "output_type": "execute_result"
    }
   ],
   "source": [
    "yeniDataFrame[\"Yas\"]"
   ]
  },
  {
   "cell_type": "code",
   "execution_count": 12,
   "id": "650f34de-70d2-4634-95d3-afe20c52fab0",
   "metadata": {},
   "outputs": [
    {
     "data": {
      "text/html": [
       "<div>\n",
       "<style scoped>\n",
       "    .dataframe tbody tr th:only-of-type {\n",
       "        vertical-align: middle;\n",
       "    }\n",
       "\n",
       "    .dataframe tbody tr th {\n",
       "        vertical-align: top;\n",
       "    }\n",
       "\n",
       "    .dataframe thead th {\n",
       "        text-align: right;\n",
       "    }\n",
       "</style>\n",
       "<table border=\"1\" class=\"dataframe\">\n",
       "  <thead>\n",
       "    <tr style=\"text-align: right;\">\n",
       "      <th></th>\n",
       "      <th>Yas</th>\n",
       "      <th>Maas</th>\n",
       "    </tr>\n",
       "  </thead>\n",
       "  <tbody>\n",
       "    <tr>\n",
       "      <th>Kubra</th>\n",
       "      <td>-1.292445</td>\n",
       "      <td>-0.421837</td>\n",
       "    </tr>\n",
       "    <tr>\n",
       "      <th>Zeynep</th>\n",
       "      <td>-0.667387</td>\n",
       "      <td>-0.796290</td>\n",
       "    </tr>\n",
       "    <tr>\n",
       "      <th>Meryem</th>\n",
       "      <td>-1.763250</td>\n",
       "      <td>-1.017126</td>\n",
       "    </tr>\n",
       "    <tr>\n",
       "      <th>Murat</th>\n",
       "      <td>1.733443</td>\n",
       "      <td>-0.752552</td>\n",
       "    </tr>\n",
       "  </tbody>\n",
       "</table>\n",
       "</div>"
      ],
      "text/plain": [
       "             Yas      Maas\n",
       "Kubra  -1.292445 -0.421837\n",
       "Zeynep -0.667387 -0.796290\n",
       "Meryem -1.763250 -1.017126\n",
       "Murat   1.733443 -0.752552"
      ]
     },
     "execution_count": 12,
     "metadata": {},
     "output_type": "execute_result"
    }
   ],
   "source": [
    "yeniDataFrame[[\"Yas\",\"Maas\"]]"
   ]
  },
  {
   "cell_type": "code",
   "execution_count": 13,
   "id": "32898e27-9485-4557-92a5-bbc3f859f076",
   "metadata": {},
   "outputs": [
    {
     "data": {
      "text/plain": [
       "Maas            -0.796290\n",
       "Yas             -0.667387\n",
       "Calisma Saati   -0.248238\n",
       "Name: Zeynep, dtype: float64"
      ]
     },
     "execution_count": 13,
     "metadata": {},
     "output_type": "execute_result"
    }
   ],
   "source": [
    "yeniDataFrame.loc[\"Zeynep\"]"
   ]
  },
  {
   "cell_type": "code",
   "execution_count": 14,
   "id": "7f955cf7-323f-44a2-938b-7d441f4066b1",
   "metadata": {},
   "outputs": [
    {
     "data": {
      "text/plain": [
       "Maas            -0.796290\n",
       "Yas             -0.667387\n",
       "Calisma Saati   -0.248238\n",
       "Name: Zeynep, dtype: float64"
      ]
     },
     "execution_count": 14,
     "metadata": {},
     "output_type": "execute_result"
    }
   ],
   "source": [
    "yeniDataFrame.iloc[1]"
   ]
  },
  {
   "cell_type": "code",
   "execution_count": 15,
   "id": "22a9a8c5-39b7-4854-9b94-b646fc5d5ffd",
   "metadata": {},
   "outputs": [],
   "source": [
    "yeniDataFrame[\"Emeklilik Yasi\"] = yeniDataFrame[\"Yas\"] + yeniDataFrame[\"Yas\"]"
   ]
  },
  {
   "cell_type": "code",
   "execution_count": 16,
   "id": "8a89e928-50d6-473a-932a-88d599b30b25",
   "metadata": {},
   "outputs": [
    {
     "data": {
      "text/html": [
       "<div>\n",
       "<style scoped>\n",
       "    .dataframe tbody tr th:only-of-type {\n",
       "        vertical-align: middle;\n",
       "    }\n",
       "\n",
       "    .dataframe tbody tr th {\n",
       "        vertical-align: top;\n",
       "    }\n",
       "\n",
       "    .dataframe thead th {\n",
       "        text-align: right;\n",
       "    }\n",
       "</style>\n",
       "<table border=\"1\" class=\"dataframe\">\n",
       "  <thead>\n",
       "    <tr style=\"text-align: right;\">\n",
       "      <th></th>\n",
       "      <th>Maas</th>\n",
       "      <th>Yas</th>\n",
       "      <th>Calisma Saati</th>\n",
       "      <th>Emeklilik Yasi</th>\n",
       "    </tr>\n",
       "  </thead>\n",
       "  <tbody>\n",
       "    <tr>\n",
       "      <th>Kubra</th>\n",
       "      <td>-0.421837</td>\n",
       "      <td>-1.292445</td>\n",
       "      <td>0.765785</td>\n",
       "      <td>-2.584891</td>\n",
       "    </tr>\n",
       "    <tr>\n",
       "      <th>Zeynep</th>\n",
       "      <td>-0.796290</td>\n",
       "      <td>-0.667387</td>\n",
       "      <td>-0.248238</td>\n",
       "      <td>-1.334773</td>\n",
       "    </tr>\n",
       "    <tr>\n",
       "      <th>Meryem</th>\n",
       "      <td>-1.017126</td>\n",
       "      <td>-1.763250</td>\n",
       "      <td>0.749823</td>\n",
       "      <td>-3.526500</td>\n",
       "    </tr>\n",
       "    <tr>\n",
       "      <th>Murat</th>\n",
       "      <td>-0.752552</td>\n",
       "      <td>1.733443</td>\n",
       "      <td>-0.115020</td>\n",
       "      <td>3.466885</td>\n",
       "    </tr>\n",
       "  </tbody>\n",
       "</table>\n",
       "</div>"
      ],
      "text/plain": [
       "            Maas       Yas  Calisma Saati  Emeklilik Yasi\n",
       "Kubra  -0.421837 -1.292445       0.765785       -2.584891\n",
       "Zeynep -0.796290 -0.667387      -0.248238       -1.334773\n",
       "Meryem -1.017126 -1.763250       0.749823       -3.526500\n",
       "Murat  -0.752552  1.733443      -0.115020        3.466885"
      ]
     },
     "execution_count": 16,
     "metadata": {},
     "output_type": "execute_result"
    }
   ],
   "source": [
    "yeniDataFrame"
   ]
  },
  {
   "cell_type": "code",
   "execution_count": 17,
   "id": "432c1513-e653-4e46-bd4b-7582c6ff5163",
   "metadata": {},
   "outputs": [
    {
     "data": {
      "text/html": [
       "<div>\n",
       "<style scoped>\n",
       "    .dataframe tbody tr th:only-of-type {\n",
       "        vertical-align: middle;\n",
       "    }\n",
       "\n",
       "    .dataframe tbody tr th {\n",
       "        vertical-align: top;\n",
       "    }\n",
       "\n",
       "    .dataframe thead th {\n",
       "        text-align: right;\n",
       "    }\n",
       "</style>\n",
       "<table border=\"1\" class=\"dataframe\">\n",
       "  <thead>\n",
       "    <tr style=\"text-align: right;\">\n",
       "      <th></th>\n",
       "      <th>Maas</th>\n",
       "      <th>Yas</th>\n",
       "      <th>Calisma Saati</th>\n",
       "    </tr>\n",
       "  </thead>\n",
       "  <tbody>\n",
       "    <tr>\n",
       "      <th>Kubra</th>\n",
       "      <td>-0.421837</td>\n",
       "      <td>-1.292445</td>\n",
       "      <td>0.765785</td>\n",
       "    </tr>\n",
       "    <tr>\n",
       "      <th>Zeynep</th>\n",
       "      <td>-0.796290</td>\n",
       "      <td>-0.667387</td>\n",
       "      <td>-0.248238</td>\n",
       "    </tr>\n",
       "    <tr>\n",
       "      <th>Meryem</th>\n",
       "      <td>-1.017126</td>\n",
       "      <td>-1.763250</td>\n",
       "      <td>0.749823</td>\n",
       "    </tr>\n",
       "    <tr>\n",
       "      <th>Murat</th>\n",
       "      <td>-0.752552</td>\n",
       "      <td>1.733443</td>\n",
       "      <td>-0.115020</td>\n",
       "    </tr>\n",
       "  </tbody>\n",
       "</table>\n",
       "</div>"
      ],
      "text/plain": [
       "            Maas       Yas  Calisma Saati\n",
       "Kubra  -0.421837 -1.292445       0.765785\n",
       "Zeynep -0.796290 -0.667387      -0.248238\n",
       "Meryem -1.017126 -1.763250       0.749823\n",
       "Murat  -0.752552  1.733443      -0.115020"
      ]
     },
     "execution_count": 17,
     "metadata": {},
     "output_type": "execute_result"
    }
   ],
   "source": [
    "yeniDataFrame.drop(\"Emeklilik Yasi\", axis = 1)"
   ]
  },
  {
   "cell_type": "code",
   "execution_count": 18,
   "id": "84433716-2337-4ae9-b5c6-6fbf33966f46",
   "metadata": {},
   "outputs": [
    {
     "data": {
      "text/html": [
       "<div>\n",
       "<style scoped>\n",
       "    .dataframe tbody tr th:only-of-type {\n",
       "        vertical-align: middle;\n",
       "    }\n",
       "\n",
       "    .dataframe tbody tr th {\n",
       "        vertical-align: top;\n",
       "    }\n",
       "\n",
       "    .dataframe thead th {\n",
       "        text-align: right;\n",
       "    }\n",
       "</style>\n",
       "<table border=\"1\" class=\"dataframe\">\n",
       "  <thead>\n",
       "    <tr style=\"text-align: right;\">\n",
       "      <th></th>\n",
       "      <th>Maas</th>\n",
       "      <th>Yas</th>\n",
       "      <th>Calisma Saati</th>\n",
       "      <th>Emeklilik Yasi</th>\n",
       "    </tr>\n",
       "  </thead>\n",
       "  <tbody>\n",
       "    <tr>\n",
       "      <th>Kubra</th>\n",
       "      <td>-0.421837</td>\n",
       "      <td>-1.292445</td>\n",
       "      <td>0.765785</td>\n",
       "      <td>-2.584891</td>\n",
       "    </tr>\n",
       "    <tr>\n",
       "      <th>Zeynep</th>\n",
       "      <td>-0.796290</td>\n",
       "      <td>-0.667387</td>\n",
       "      <td>-0.248238</td>\n",
       "      <td>-1.334773</td>\n",
       "    </tr>\n",
       "    <tr>\n",
       "      <th>Meryem</th>\n",
       "      <td>-1.017126</td>\n",
       "      <td>-1.763250</td>\n",
       "      <td>0.749823</td>\n",
       "      <td>-3.526500</td>\n",
       "    </tr>\n",
       "  </tbody>\n",
       "</table>\n",
       "</div>"
      ],
      "text/plain": [
       "            Maas       Yas  Calisma Saati  Emeklilik Yasi\n",
       "Kubra  -0.421837 -1.292445       0.765785       -2.584891\n",
       "Zeynep -0.796290 -0.667387      -0.248238       -1.334773\n",
       "Meryem -1.017126 -1.763250       0.749823       -3.526500"
      ]
     },
     "execution_count": 18,
     "metadata": {},
     "output_type": "execute_result"
    }
   ],
   "source": [
    "yeniDataFrame.drop(\"Murat\", axis = 0)"
   ]
  },
  {
   "cell_type": "code",
   "execution_count": 19,
   "id": "6dbb92e5-625e-4c31-9eca-49fbae815ce3",
   "metadata": {},
   "outputs": [
    {
     "data": {
      "text/html": [
       "<div>\n",
       "<style scoped>\n",
       "    .dataframe tbody tr th:only-of-type {\n",
       "        vertical-align: middle;\n",
       "    }\n",
       "\n",
       "    .dataframe tbody tr th {\n",
       "        vertical-align: top;\n",
       "    }\n",
       "\n",
       "    .dataframe thead th {\n",
       "        text-align: right;\n",
       "    }\n",
       "</style>\n",
       "<table border=\"1\" class=\"dataframe\">\n",
       "  <thead>\n",
       "    <tr style=\"text-align: right;\">\n",
       "      <th></th>\n",
       "      <th>Maas</th>\n",
       "      <th>Yas</th>\n",
       "      <th>Calisma Saati</th>\n",
       "      <th>Emeklilik Yasi</th>\n",
       "    </tr>\n",
       "  </thead>\n",
       "  <tbody>\n",
       "    <tr>\n",
       "      <th>Kubra</th>\n",
       "      <td>-0.421837</td>\n",
       "      <td>-1.292445</td>\n",
       "      <td>0.765785</td>\n",
       "      <td>-2.584891</td>\n",
       "    </tr>\n",
       "    <tr>\n",
       "      <th>Zeynep</th>\n",
       "      <td>-0.796290</td>\n",
       "      <td>-0.667387</td>\n",
       "      <td>-0.248238</td>\n",
       "      <td>-1.334773</td>\n",
       "    </tr>\n",
       "    <tr>\n",
       "      <th>Meryem</th>\n",
       "      <td>-1.017126</td>\n",
       "      <td>-1.763250</td>\n",
       "      <td>0.749823</td>\n",
       "      <td>-3.526500</td>\n",
       "    </tr>\n",
       "    <tr>\n",
       "      <th>Murat</th>\n",
       "      <td>-0.752552</td>\n",
       "      <td>1.733443</td>\n",
       "      <td>-0.115020</td>\n",
       "      <td>3.466885</td>\n",
       "    </tr>\n",
       "  </tbody>\n",
       "</table>\n",
       "</div>"
      ],
      "text/plain": [
       "            Maas       Yas  Calisma Saati  Emeklilik Yasi\n",
       "Kubra  -0.421837 -1.292445       0.765785       -2.584891\n",
       "Zeynep -0.796290 -0.667387      -0.248238       -1.334773\n",
       "Meryem -1.017126 -1.763250       0.749823       -3.526500\n",
       "Murat  -0.752552  1.733443      -0.115020        3.466885"
      ]
     },
     "execution_count": 19,
     "metadata": {},
     "output_type": "execute_result"
    }
   ],
   "source": [
    "yeniDataFrame"
   ]
  },
  {
   "cell_type": "code",
   "execution_count": 20,
   "id": "fed39a05-7f5f-4c29-a288-4cf534e383a9",
   "metadata": {},
   "outputs": [],
   "source": [
    "yeniDataFrame.drop(\"Emeklilik Yasi\", axis = 1, inplace= True)"
   ]
  },
  {
   "cell_type": "code",
   "execution_count": 21,
   "id": "f79ce353-f822-4284-a33a-6838a62a476c",
   "metadata": {},
   "outputs": [
    {
     "data": {
      "text/html": [
       "<div>\n",
       "<style scoped>\n",
       "    .dataframe tbody tr th:only-of-type {\n",
       "        vertical-align: middle;\n",
       "    }\n",
       "\n",
       "    .dataframe tbody tr th {\n",
       "        vertical-align: top;\n",
       "    }\n",
       "\n",
       "    .dataframe thead th {\n",
       "        text-align: right;\n",
       "    }\n",
       "</style>\n",
       "<table border=\"1\" class=\"dataframe\">\n",
       "  <thead>\n",
       "    <tr style=\"text-align: right;\">\n",
       "      <th></th>\n",
       "      <th>Maas</th>\n",
       "      <th>Yas</th>\n",
       "      <th>Calisma Saati</th>\n",
       "    </tr>\n",
       "  </thead>\n",
       "  <tbody>\n",
       "    <tr>\n",
       "      <th>Kubra</th>\n",
       "      <td>-0.421837</td>\n",
       "      <td>-1.292445</td>\n",
       "      <td>0.765785</td>\n",
       "    </tr>\n",
       "    <tr>\n",
       "      <th>Zeynep</th>\n",
       "      <td>-0.796290</td>\n",
       "      <td>-0.667387</td>\n",
       "      <td>-0.248238</td>\n",
       "    </tr>\n",
       "    <tr>\n",
       "      <th>Meryem</th>\n",
       "      <td>-1.017126</td>\n",
       "      <td>-1.763250</td>\n",
       "      <td>0.749823</td>\n",
       "    </tr>\n",
       "    <tr>\n",
       "      <th>Murat</th>\n",
       "      <td>-0.752552</td>\n",
       "      <td>1.733443</td>\n",
       "      <td>-0.115020</td>\n",
       "    </tr>\n",
       "  </tbody>\n",
       "</table>\n",
       "</div>"
      ],
      "text/plain": [
       "            Maas       Yas  Calisma Saati\n",
       "Kubra  -0.421837 -1.292445       0.765785\n",
       "Zeynep -0.796290 -0.667387      -0.248238\n",
       "Meryem -1.017126 -1.763250       0.749823\n",
       "Murat  -0.752552  1.733443      -0.115020"
      ]
     },
     "execution_count": 21,
     "metadata": {},
     "output_type": "execute_result"
    }
   ],
   "source": [
    "yeniDataFrame"
   ]
  },
  {
   "cell_type": "code",
   "execution_count": 22,
   "id": "49b9f228-ca7b-475b-bc5e-777979f58b1a",
   "metadata": {},
   "outputs": [
    {
     "data": {
      "text/plain": [
       "0.7657847413461055"
      ]
     },
     "execution_count": 22,
     "metadata": {},
     "output_type": "execute_result"
    }
   ],
   "source": [
    "yeniDataFrame.loc[\"Kubra\"][\"Calisma Saati\"]"
   ]
  },
  {
   "cell_type": "code",
   "execution_count": 23,
   "id": "271b320a-1aaa-49ec-b764-9d21e96d1656",
   "metadata": {},
   "outputs": [
    {
     "data": {
      "text/plain": [
       "0.7657847413461055"
      ]
     },
     "execution_count": 23,
     "metadata": {},
     "output_type": "execute_result"
    }
   ],
   "source": [
    "yeniDataFrame.loc[\"Kubra\",\"Calisma Saati\"]"
   ]
  },
  {
   "cell_type": "code",
   "execution_count": 24,
   "id": "6957de9f-af41-445d-bcf1-c62e7df33509",
   "metadata": {},
   "outputs": [],
   "source": [
    "booleanFrame = yeniDataFrame < 0"
   ]
  },
  {
   "cell_type": "code",
   "execution_count": 25,
   "id": "3bc1d8cf-7a14-47af-87fd-393f157ad69f",
   "metadata": {},
   "outputs": [
    {
     "data": {
      "text/html": [
       "<div>\n",
       "<style scoped>\n",
       "    .dataframe tbody tr th:only-of-type {\n",
       "        vertical-align: middle;\n",
       "    }\n",
       "\n",
       "    .dataframe tbody tr th {\n",
       "        vertical-align: top;\n",
       "    }\n",
       "\n",
       "    .dataframe thead th {\n",
       "        text-align: right;\n",
       "    }\n",
       "</style>\n",
       "<table border=\"1\" class=\"dataframe\">\n",
       "  <thead>\n",
       "    <tr style=\"text-align: right;\">\n",
       "      <th></th>\n",
       "      <th>Maas</th>\n",
       "      <th>Yas</th>\n",
       "      <th>Calisma Saati</th>\n",
       "    </tr>\n",
       "  </thead>\n",
       "  <tbody>\n",
       "    <tr>\n",
       "      <th>Kubra</th>\n",
       "      <td>True</td>\n",
       "      <td>True</td>\n",
       "      <td>False</td>\n",
       "    </tr>\n",
       "    <tr>\n",
       "      <th>Zeynep</th>\n",
       "      <td>True</td>\n",
       "      <td>True</td>\n",
       "      <td>True</td>\n",
       "    </tr>\n",
       "    <tr>\n",
       "      <th>Meryem</th>\n",
       "      <td>True</td>\n",
       "      <td>True</td>\n",
       "      <td>False</td>\n",
       "    </tr>\n",
       "    <tr>\n",
       "      <th>Murat</th>\n",
       "      <td>True</td>\n",
       "      <td>False</td>\n",
       "      <td>True</td>\n",
       "    </tr>\n",
       "  </tbody>\n",
       "</table>\n",
       "</div>"
      ],
      "text/plain": [
       "        Maas    Yas  Calisma Saati\n",
       "Kubra   True   True          False\n",
       "Zeynep  True   True           True\n",
       "Meryem  True   True          False\n",
       "Murat   True  False           True"
      ]
     },
     "execution_count": 25,
     "metadata": {},
     "output_type": "execute_result"
    }
   ],
   "source": [
    "booleanFrame"
   ]
  },
  {
   "cell_type": "code",
   "execution_count": 26,
   "id": "b5316778-ea58-4ae0-8789-cff1a1e0a78f",
   "metadata": {},
   "outputs": [
    {
     "data": {
      "text/html": [
       "<div>\n",
       "<style scoped>\n",
       "    .dataframe tbody tr th:only-of-type {\n",
       "        vertical-align: middle;\n",
       "    }\n",
       "\n",
       "    .dataframe tbody tr th {\n",
       "        vertical-align: top;\n",
       "    }\n",
       "\n",
       "    .dataframe thead th {\n",
       "        text-align: right;\n",
       "    }\n",
       "</style>\n",
       "<table border=\"1\" class=\"dataframe\">\n",
       "  <thead>\n",
       "    <tr style=\"text-align: right;\">\n",
       "      <th></th>\n",
       "      <th>Maas</th>\n",
       "      <th>Yas</th>\n",
       "      <th>Calisma Saati</th>\n",
       "    </tr>\n",
       "  </thead>\n",
       "  <tbody>\n",
       "    <tr>\n",
       "      <th>Kubra</th>\n",
       "      <td>-0.421837</td>\n",
       "      <td>-1.292445</td>\n",
       "      <td>NaN</td>\n",
       "    </tr>\n",
       "    <tr>\n",
       "      <th>Zeynep</th>\n",
       "      <td>-0.796290</td>\n",
       "      <td>-0.667387</td>\n",
       "      <td>-0.248238</td>\n",
       "    </tr>\n",
       "    <tr>\n",
       "      <th>Meryem</th>\n",
       "      <td>-1.017126</td>\n",
       "      <td>-1.763250</td>\n",
       "      <td>NaN</td>\n",
       "    </tr>\n",
       "    <tr>\n",
       "      <th>Murat</th>\n",
       "      <td>-0.752552</td>\n",
       "      <td>NaN</td>\n",
       "      <td>-0.115020</td>\n",
       "    </tr>\n",
       "  </tbody>\n",
       "</table>\n",
       "</div>"
      ],
      "text/plain": [
       "            Maas       Yas  Calisma Saati\n",
       "Kubra  -0.421837 -1.292445            NaN\n",
       "Zeynep -0.796290 -0.667387      -0.248238\n",
       "Meryem -1.017126 -1.763250            NaN\n",
       "Murat  -0.752552       NaN      -0.115020"
      ]
     },
     "execution_count": 26,
     "metadata": {},
     "output_type": "execute_result"
    }
   ],
   "source": [
    "yeniDataFrame[booleanFrame]"
   ]
  },
  {
   "cell_type": "code",
   "execution_count": 27,
   "id": "dd378824-d7e8-4554-8fd5-467c3086197f",
   "metadata": {},
   "outputs": [
    {
     "data": {
      "text/html": [
       "<div>\n",
       "<style scoped>\n",
       "    .dataframe tbody tr th:only-of-type {\n",
       "        vertical-align: middle;\n",
       "    }\n",
       "\n",
       "    .dataframe tbody tr th {\n",
       "        vertical-align: top;\n",
       "    }\n",
       "\n",
       "    .dataframe thead th {\n",
       "        text-align: right;\n",
       "    }\n",
       "</style>\n",
       "<table border=\"1\" class=\"dataframe\">\n",
       "  <thead>\n",
       "    <tr style=\"text-align: right;\">\n",
       "      <th></th>\n",
       "      <th>Maas</th>\n",
       "      <th>Yas</th>\n",
       "      <th>Calisma Saati</th>\n",
       "    </tr>\n",
       "  </thead>\n",
       "  <tbody>\n",
       "    <tr>\n",
       "      <th>Murat</th>\n",
       "      <td>-0.752552</td>\n",
       "      <td>1.733443</td>\n",
       "      <td>-0.11502</td>\n",
       "    </tr>\n",
       "  </tbody>\n",
       "</table>\n",
       "</div>"
      ],
      "text/plain": [
       "           Maas       Yas  Calisma Saati\n",
       "Murat -0.752552  1.733443       -0.11502"
      ]
     },
     "execution_count": 27,
     "metadata": {},
     "output_type": "execute_result"
    }
   ],
   "source": [
    "yeniDataFrame[yeniDataFrame[\"Yas\"] > 0]"
   ]
  },
  {
   "cell_type": "code",
   "execution_count": 28,
   "id": "2885b877-4a34-4e7e-b23c-edd496cb1a86",
   "metadata": {},
   "outputs": [
    {
     "data": {
      "text/html": [
       "<div>\n",
       "<style scoped>\n",
       "    .dataframe tbody tr th:only-of-type {\n",
       "        vertical-align: middle;\n",
       "    }\n",
       "\n",
       "    .dataframe tbody tr th {\n",
       "        vertical-align: top;\n",
       "    }\n",
       "\n",
       "    .dataframe thead th {\n",
       "        text-align: right;\n",
       "    }\n",
       "</style>\n",
       "<table border=\"1\" class=\"dataframe\">\n",
       "  <thead>\n",
       "    <tr style=\"text-align: right;\">\n",
       "      <th></th>\n",
       "      <th>Maas</th>\n",
       "      <th>Yas</th>\n",
       "      <th>Calisma Saati</th>\n",
       "    </tr>\n",
       "  </thead>\n",
       "  <tbody>\n",
       "    <tr>\n",
       "      <th>Kubra</th>\n",
       "      <td>-0.421837</td>\n",
       "      <td>-1.292445</td>\n",
       "      <td>0.765785</td>\n",
       "    </tr>\n",
       "    <tr>\n",
       "      <th>Zeynep</th>\n",
       "      <td>-0.796290</td>\n",
       "      <td>-0.667387</td>\n",
       "      <td>-0.248238</td>\n",
       "    </tr>\n",
       "    <tr>\n",
       "      <th>Meryem</th>\n",
       "      <td>-1.017126</td>\n",
       "      <td>-1.763250</td>\n",
       "      <td>0.749823</td>\n",
       "    </tr>\n",
       "    <tr>\n",
       "      <th>Murat</th>\n",
       "      <td>-0.752552</td>\n",
       "      <td>1.733443</td>\n",
       "      <td>-0.115020</td>\n",
       "    </tr>\n",
       "  </tbody>\n",
       "</table>\n",
       "</div>"
      ],
      "text/plain": [
       "            Maas       Yas  Calisma Saati\n",
       "Kubra  -0.421837 -1.292445       0.765785\n",
       "Zeynep -0.796290 -0.667387      -0.248238\n",
       "Meryem -1.017126 -1.763250       0.749823\n",
       "Murat  -0.752552  1.733443      -0.115020"
      ]
     },
     "execution_count": 28,
     "metadata": {},
     "output_type": "execute_result"
    }
   ],
   "source": [
    "yeniDataFrame"
   ]
  },
  {
   "cell_type": "code",
   "execution_count": 29,
   "id": "a5b78693-be72-4e53-b215-437f17343e05",
   "metadata": {},
   "outputs": [],
   "source": [
    "yeniIndeksListesi = [\"Kub\",\"Zey\",\"Mer\",\"Mur\"]"
   ]
  },
  {
   "cell_type": "code",
   "execution_count": 30,
   "id": "86cb1bc7-86ee-49a6-98f9-eda26bab1da7",
   "metadata": {},
   "outputs": [],
   "source": [
    "yeniDataFrame[\"Yeni Indeks\"] = yeniIndeksListesi"
   ]
  },
  {
   "cell_type": "code",
   "execution_count": 31,
   "id": "a540b98a-8155-4802-82ae-134ec432ebe4",
   "metadata": {},
   "outputs": [
    {
     "data": {
      "text/html": [
       "<div>\n",
       "<style scoped>\n",
       "    .dataframe tbody tr th:only-of-type {\n",
       "        vertical-align: middle;\n",
       "    }\n",
       "\n",
       "    .dataframe tbody tr th {\n",
       "        vertical-align: top;\n",
       "    }\n",
       "\n",
       "    .dataframe thead th {\n",
       "        text-align: right;\n",
       "    }\n",
       "</style>\n",
       "<table border=\"1\" class=\"dataframe\">\n",
       "  <thead>\n",
       "    <tr style=\"text-align: right;\">\n",
       "      <th></th>\n",
       "      <th>Maas</th>\n",
       "      <th>Yas</th>\n",
       "      <th>Calisma Saati</th>\n",
       "      <th>Yeni Indeks</th>\n",
       "    </tr>\n",
       "  </thead>\n",
       "  <tbody>\n",
       "    <tr>\n",
       "      <th>Kubra</th>\n",
       "      <td>-0.421837</td>\n",
       "      <td>-1.292445</td>\n",
       "      <td>0.765785</td>\n",
       "      <td>Kub</td>\n",
       "    </tr>\n",
       "    <tr>\n",
       "      <th>Zeynep</th>\n",
       "      <td>-0.796290</td>\n",
       "      <td>-0.667387</td>\n",
       "      <td>-0.248238</td>\n",
       "      <td>Zey</td>\n",
       "    </tr>\n",
       "    <tr>\n",
       "      <th>Meryem</th>\n",
       "      <td>-1.017126</td>\n",
       "      <td>-1.763250</td>\n",
       "      <td>0.749823</td>\n",
       "      <td>Mer</td>\n",
       "    </tr>\n",
       "    <tr>\n",
       "      <th>Murat</th>\n",
       "      <td>-0.752552</td>\n",
       "      <td>1.733443</td>\n",
       "      <td>-0.115020</td>\n",
       "      <td>Mur</td>\n",
       "    </tr>\n",
       "  </tbody>\n",
       "</table>\n",
       "</div>"
      ],
      "text/plain": [
       "            Maas       Yas  Calisma Saati Yeni Indeks\n",
       "Kubra  -0.421837 -1.292445       0.765785         Kub\n",
       "Zeynep -0.796290 -0.667387      -0.248238         Zey\n",
       "Meryem -1.017126 -1.763250       0.749823         Mer\n",
       "Murat  -0.752552  1.733443      -0.115020         Mur"
      ]
     },
     "execution_count": 31,
     "metadata": {},
     "output_type": "execute_result"
    }
   ],
   "source": [
    "yeniDataFrame"
   ]
  },
  {
   "cell_type": "code",
   "execution_count": 32,
   "id": "5ccec9c0-e0f0-4255-86d5-2127b68ee8c5",
   "metadata": {},
   "outputs": [
    {
     "data": {
      "text/html": [
       "<div>\n",
       "<style scoped>\n",
       "    .dataframe tbody tr th:only-of-type {\n",
       "        vertical-align: middle;\n",
       "    }\n",
       "\n",
       "    .dataframe tbody tr th {\n",
       "        vertical-align: top;\n",
       "    }\n",
       "\n",
       "    .dataframe thead th {\n",
       "        text-align: right;\n",
       "    }\n",
       "</style>\n",
       "<table border=\"1\" class=\"dataframe\">\n",
       "  <thead>\n",
       "    <tr style=\"text-align: right;\">\n",
       "      <th></th>\n",
       "      <th>Maas</th>\n",
       "      <th>Yas</th>\n",
       "      <th>Calisma Saati</th>\n",
       "    </tr>\n",
       "    <tr>\n",
       "      <th>Yeni Indeks</th>\n",
       "      <th></th>\n",
       "      <th></th>\n",
       "      <th></th>\n",
       "    </tr>\n",
       "  </thead>\n",
       "  <tbody>\n",
       "    <tr>\n",
       "      <th>Kub</th>\n",
       "      <td>-0.421837</td>\n",
       "      <td>-1.292445</td>\n",
       "      <td>0.765785</td>\n",
       "    </tr>\n",
       "    <tr>\n",
       "      <th>Zey</th>\n",
       "      <td>-0.796290</td>\n",
       "      <td>-0.667387</td>\n",
       "      <td>-0.248238</td>\n",
       "    </tr>\n",
       "    <tr>\n",
       "      <th>Mer</th>\n",
       "      <td>-1.017126</td>\n",
       "      <td>-1.763250</td>\n",
       "      <td>0.749823</td>\n",
       "    </tr>\n",
       "    <tr>\n",
       "      <th>Mur</th>\n",
       "      <td>-0.752552</td>\n",
       "      <td>1.733443</td>\n",
       "      <td>-0.115020</td>\n",
       "    </tr>\n",
       "  </tbody>\n",
       "</table>\n",
       "</div>"
      ],
      "text/plain": [
       "                 Maas       Yas  Calisma Saati\n",
       "Yeni Indeks                                   \n",
       "Kub         -0.421837 -1.292445       0.765785\n",
       "Zey         -0.796290 -0.667387      -0.248238\n",
       "Mer         -1.017126 -1.763250       0.749823\n",
       "Mur         -0.752552  1.733443      -0.115020"
      ]
     },
     "execution_count": 32,
     "metadata": {},
     "output_type": "execute_result"
    }
   ],
   "source": [
    "yeniDataFrame.set_index(\"Yeni Indeks\")"
   ]
  },
  {
   "cell_type": "code",
   "execution_count": 33,
   "id": "80aca6a4-b92b-4e43-9d60-c73fadf597b9",
   "metadata": {},
   "outputs": [
    {
     "data": {
      "text/html": [
       "<div>\n",
       "<style scoped>\n",
       "    .dataframe tbody tr th:only-of-type {\n",
       "        vertical-align: middle;\n",
       "    }\n",
       "\n",
       "    .dataframe tbody tr th {\n",
       "        vertical-align: top;\n",
       "    }\n",
       "\n",
       "    .dataframe thead th {\n",
       "        text-align: right;\n",
       "    }\n",
       "</style>\n",
       "<table border=\"1\" class=\"dataframe\">\n",
       "  <thead>\n",
       "    <tr style=\"text-align: right;\">\n",
       "      <th></th>\n",
       "      <th>Maas</th>\n",
       "      <th>Yas</th>\n",
       "      <th>Calisma Saati</th>\n",
       "      <th>Yeni Indeks</th>\n",
       "    </tr>\n",
       "  </thead>\n",
       "  <tbody>\n",
       "    <tr>\n",
       "      <th>Kubra</th>\n",
       "      <td>-0.421837</td>\n",
       "      <td>-1.292445</td>\n",
       "      <td>0.765785</td>\n",
       "      <td>Kub</td>\n",
       "    </tr>\n",
       "    <tr>\n",
       "      <th>Zeynep</th>\n",
       "      <td>-0.796290</td>\n",
       "      <td>-0.667387</td>\n",
       "      <td>-0.248238</td>\n",
       "      <td>Zey</td>\n",
       "    </tr>\n",
       "    <tr>\n",
       "      <th>Meryem</th>\n",
       "      <td>-1.017126</td>\n",
       "      <td>-1.763250</td>\n",
       "      <td>0.749823</td>\n",
       "      <td>Mer</td>\n",
       "    </tr>\n",
       "    <tr>\n",
       "      <th>Murat</th>\n",
       "      <td>-0.752552</td>\n",
       "      <td>1.733443</td>\n",
       "      <td>-0.115020</td>\n",
       "      <td>Mur</td>\n",
       "    </tr>\n",
       "  </tbody>\n",
       "</table>\n",
       "</div>"
      ],
      "text/plain": [
       "            Maas       Yas  Calisma Saati Yeni Indeks\n",
       "Kubra  -0.421837 -1.292445       0.765785         Kub\n",
       "Zeynep -0.796290 -0.667387      -0.248238         Zey\n",
       "Meryem -1.017126 -1.763250       0.749823         Mer\n",
       "Murat  -0.752552  1.733443      -0.115020         Mur"
      ]
     },
     "execution_count": 33,
     "metadata": {},
     "output_type": "execute_result"
    }
   ],
   "source": [
    "yeniDataFrame"
   ]
  },
  {
   "cell_type": "code",
   "execution_count": 34,
   "id": "7415192c-5e8c-427a-8c23-0d8fb5b29a68",
   "metadata": {},
   "outputs": [],
   "source": [
    "yeniDataFrame.set_index(\"Yeni Indeks\",inplace=True)"
   ]
  },
  {
   "cell_type": "code",
   "execution_count": 35,
   "id": "b06cc969-21a3-4c62-b935-55294ac4f542",
   "metadata": {},
   "outputs": [
    {
     "data": {
      "text/html": [
       "<div>\n",
       "<style scoped>\n",
       "    .dataframe tbody tr th:only-of-type {\n",
       "        vertical-align: middle;\n",
       "    }\n",
       "\n",
       "    .dataframe tbody tr th {\n",
       "        vertical-align: top;\n",
       "    }\n",
       "\n",
       "    .dataframe thead th {\n",
       "        text-align: right;\n",
       "    }\n",
       "</style>\n",
       "<table border=\"1\" class=\"dataframe\">\n",
       "  <thead>\n",
       "    <tr style=\"text-align: right;\">\n",
       "      <th></th>\n",
       "      <th>Maas</th>\n",
       "      <th>Yas</th>\n",
       "      <th>Calisma Saati</th>\n",
       "    </tr>\n",
       "    <tr>\n",
       "      <th>Yeni Indeks</th>\n",
       "      <th></th>\n",
       "      <th></th>\n",
       "      <th></th>\n",
       "    </tr>\n",
       "  </thead>\n",
       "  <tbody>\n",
       "    <tr>\n",
       "      <th>Kub</th>\n",
       "      <td>-0.421837</td>\n",
       "      <td>-1.292445</td>\n",
       "      <td>0.765785</td>\n",
       "    </tr>\n",
       "    <tr>\n",
       "      <th>Zey</th>\n",
       "      <td>-0.796290</td>\n",
       "      <td>-0.667387</td>\n",
       "      <td>-0.248238</td>\n",
       "    </tr>\n",
       "    <tr>\n",
       "      <th>Mer</th>\n",
       "      <td>-1.017126</td>\n",
       "      <td>-1.763250</td>\n",
       "      <td>0.749823</td>\n",
       "    </tr>\n",
       "    <tr>\n",
       "      <th>Mur</th>\n",
       "      <td>-0.752552</td>\n",
       "      <td>1.733443</td>\n",
       "      <td>-0.115020</td>\n",
       "    </tr>\n",
       "  </tbody>\n",
       "</table>\n",
       "</div>"
      ],
      "text/plain": [
       "                 Maas       Yas  Calisma Saati\n",
       "Yeni Indeks                                   \n",
       "Kub         -0.421837 -1.292445       0.765785\n",
       "Zey         -0.796290 -0.667387      -0.248238\n",
       "Mer         -1.017126 -1.763250       0.749823\n",
       "Mur         -0.752552  1.733443      -0.115020"
      ]
     },
     "execution_count": 35,
     "metadata": {},
     "output_type": "execute_result"
    }
   ],
   "source": [
    "yeniDataFrame"
   ]
  },
  {
   "cell_type": "code",
   "execution_count": 27,
   "id": "d250eb00-1f4f-4c5f-9a01-49bd7b3ba883",
   "metadata": {},
   "outputs": [],
   "source": [
    "ilkIndeksler = [\"Tavsan\",\"Tavsan\",\"Tavsan\",\"Avci\",\"Avci\",\"Avci\"]"
   ]
  },
  {
   "cell_type": "code",
   "execution_count": 28,
   "id": "af02cade-ecdd-4c4c-94e5-d24b5eb4615e",
   "metadata": {},
   "outputs": [],
   "source": [
    "icIndeksler = [\"bugs\",\"bunny\",\"bart\",\"cartman\",\"kenny\",\"homer\"]"
   ]
  },
  {
   "cell_type": "code",
   "execution_count": 29,
   "id": "2d454c85-9774-44c4-aeec-5e34185207e2",
   "metadata": {},
   "outputs": [],
   "source": [
    "birlesmisIndeks = list(zip(ilkIndeksler,icIndeksler))"
   ]
  },
  {
   "cell_type": "code",
   "execution_count": 30,
   "id": "f90c7054-1d1a-4bc0-8058-6d79b8bb7ba3",
   "metadata": {},
   "outputs": [
    {
     "data": {
      "text/plain": [
       "[('Tavsan', 'bugs'),\n",
       " ('Tavsan', 'bunny'),\n",
       " ('Tavsan', 'bart'),\n",
       " ('Avci', 'cartman'),\n",
       " ('Avci', 'kenny'),\n",
       " ('Avci', 'homer')]"
      ]
     },
     "execution_count": 30,
     "metadata": {},
     "output_type": "execute_result"
    }
   ],
   "source": [
    "birlesmisIndeks"
   ]
  },
  {
   "cell_type": "code",
   "execution_count": 31,
   "id": "3f51dc80-f3b3-4db6-9770-be7d82a7f600",
   "metadata": {},
   "outputs": [],
   "source": [
    "birlesmisIndeks = pd.MultiIndex.from_tuples(birlesmisIndeks)"
   ]
  },
  {
   "cell_type": "code",
   "execution_count": 32,
   "id": "0ff32424-0a44-4f93-92b8-98b3f3a13155",
   "metadata": {},
   "outputs": [
    {
     "data": {
      "text/plain": [
       "MultiIndex([('Tavsan',    'bugs'),\n",
       "            ('Tavsan',   'bunny'),\n",
       "            ('Tavsan',    'bart'),\n",
       "            (  'Avci', 'cartman'),\n",
       "            (  'Avci',   'kenny'),\n",
       "            (  'Avci',   'homer')],\n",
       "           )"
      ]
     },
     "execution_count": 32,
     "metadata": {},
     "output_type": "execute_result"
    }
   ],
   "source": [
    "birlesmisIndeks"
   ]
  },
  {
   "cell_type": "code",
   "execution_count": 33,
   "id": "d5d75f5f-c58c-4009-9def-8f61d5f4ab77",
   "metadata": {},
   "outputs": [],
   "source": [
    "benimCizgiFilmListem = [[40,\"A\"],[10,\"B\"],[30,\"C\"],[50,\"D\"],[60,\"E\"],[9,\"F\"]]"
   ]
  },
  {
   "cell_type": "code",
   "execution_count": 34,
   "id": "ef94fd31-536a-4cfe-a825-75b356672ce2",
   "metadata": {},
   "outputs": [],
   "source": [
    "cizgiFilmNumbyDizisi = np.array(benimCizgiFilmListem)"
   ]
  },
  {
   "cell_type": "code",
   "execution_count": 38,
   "id": "440e458c-d336-4dca-b65f-39bc0578347d",
   "metadata": {},
   "outputs": [],
   "source": [
    "cizgiFilmDataFrame = pd.DataFrame(cizgiFilmNumbyDizisi,index = birlesmisIndeks, columns = [\"Yas\",\"Meslek\"])"
   ]
  },
  {
   "cell_type": "code",
   "execution_count": 39,
   "id": "cad6fe71-99b2-48b5-9646-7a20d53ea788",
   "metadata": {},
   "outputs": [
    {
     "data": {
      "text/html": [
       "<div>\n",
       "<style scoped>\n",
       "    .dataframe tbody tr th:only-of-type {\n",
       "        vertical-align: middle;\n",
       "    }\n",
       "\n",
       "    .dataframe tbody tr th {\n",
       "        vertical-align: top;\n",
       "    }\n",
       "\n",
       "    .dataframe thead th {\n",
       "        text-align: right;\n",
       "    }\n",
       "</style>\n",
       "<table border=\"1\" class=\"dataframe\">\n",
       "  <thead>\n",
       "    <tr style=\"text-align: right;\">\n",
       "      <th></th>\n",
       "      <th></th>\n",
       "      <th>Yas</th>\n",
       "      <th>Meslek</th>\n",
       "    </tr>\n",
       "  </thead>\n",
       "  <tbody>\n",
       "    <tr>\n",
       "      <th rowspan=\"3\" valign=\"top\">Tavsan</th>\n",
       "      <th>bugs</th>\n",
       "      <td>40</td>\n",
       "      <td>A</td>\n",
       "    </tr>\n",
       "    <tr>\n",
       "      <th>bunny</th>\n",
       "      <td>10</td>\n",
       "      <td>B</td>\n",
       "    </tr>\n",
       "    <tr>\n",
       "      <th>bart</th>\n",
       "      <td>30</td>\n",
       "      <td>C</td>\n",
       "    </tr>\n",
       "    <tr>\n",
       "      <th rowspan=\"3\" valign=\"top\">Avci</th>\n",
       "      <th>cartman</th>\n",
       "      <td>50</td>\n",
       "      <td>D</td>\n",
       "    </tr>\n",
       "    <tr>\n",
       "      <th>kenny</th>\n",
       "      <td>60</td>\n",
       "      <td>E</td>\n",
       "    </tr>\n",
       "    <tr>\n",
       "      <th>homer</th>\n",
       "      <td>9</td>\n",
       "      <td>F</td>\n",
       "    </tr>\n",
       "  </tbody>\n",
       "</table>\n",
       "</div>"
      ],
      "text/plain": [
       "               Yas Meslek\n",
       "Tavsan bugs     40      A\n",
       "       bunny    10      B\n",
       "       bart     30      C\n",
       "Avci   cartman  50      D\n",
       "       kenny    60      E\n",
       "       homer     9      F"
      ]
     },
     "execution_count": 39,
     "metadata": {},
     "output_type": "execute_result"
    }
   ],
   "source": [
    "cizgiFilmDataFrame"
   ]
  },
  {
   "cell_type": "code",
   "execution_count": 40,
   "id": "fed64e23-09cd-4dd4-bafd-fb820aaf1518",
   "metadata": {},
   "outputs": [
    {
     "data": {
      "text/plain": [
       "Yas       10\n",
       "Meslek     B\n",
       "Name: bunny, dtype: object"
      ]
     },
     "execution_count": 40,
     "metadata": {},
     "output_type": "execute_result"
    }
   ],
   "source": [
    "cizgiFilmDataFrame.loc[\"Tavsan\"].loc[\"bunny\"]"
   ]
  },
  {
   "cell_type": "code",
   "execution_count": 41,
   "id": "4a7d02cc-4e84-4f59-a396-bd24ceb3c7a8",
   "metadata": {},
   "outputs": [],
   "source": [
    "cizgiFilmDataFrame.index.names = [\"Persona\",\"Isim\"]"
   ]
  },
  {
   "cell_type": "code",
   "execution_count": 42,
   "id": "b437b46c-5fac-489a-a92f-86c4ae25174b",
   "metadata": {},
   "outputs": [
    {
     "data": {
      "text/html": [
       "<div>\n",
       "<style scoped>\n",
       "    .dataframe tbody tr th:only-of-type {\n",
       "        vertical-align: middle;\n",
       "    }\n",
       "\n",
       "    .dataframe tbody tr th {\n",
       "        vertical-align: top;\n",
       "    }\n",
       "\n",
       "    .dataframe thead th {\n",
       "        text-align: right;\n",
       "    }\n",
       "</style>\n",
       "<table border=\"1\" class=\"dataframe\">\n",
       "  <thead>\n",
       "    <tr style=\"text-align: right;\">\n",
       "      <th></th>\n",
       "      <th></th>\n",
       "      <th>Yas</th>\n",
       "      <th>Meslek</th>\n",
       "    </tr>\n",
       "    <tr>\n",
       "      <th>Persona</th>\n",
       "      <th>Isim</th>\n",
       "      <th></th>\n",
       "      <th></th>\n",
       "    </tr>\n",
       "  </thead>\n",
       "  <tbody>\n",
       "    <tr>\n",
       "      <th rowspan=\"3\" valign=\"top\">Tavsan</th>\n",
       "      <th>bugs</th>\n",
       "      <td>40</td>\n",
       "      <td>A</td>\n",
       "    </tr>\n",
       "    <tr>\n",
       "      <th>bunny</th>\n",
       "      <td>10</td>\n",
       "      <td>B</td>\n",
       "    </tr>\n",
       "    <tr>\n",
       "      <th>bart</th>\n",
       "      <td>30</td>\n",
       "      <td>C</td>\n",
       "    </tr>\n",
       "    <tr>\n",
       "      <th rowspan=\"3\" valign=\"top\">Avci</th>\n",
       "      <th>cartman</th>\n",
       "      <td>50</td>\n",
       "      <td>D</td>\n",
       "    </tr>\n",
       "    <tr>\n",
       "      <th>kenny</th>\n",
       "      <td>60</td>\n",
       "      <td>E</td>\n",
       "    </tr>\n",
       "    <tr>\n",
       "      <th>homer</th>\n",
       "      <td>9</td>\n",
       "      <td>F</td>\n",
       "    </tr>\n",
       "  </tbody>\n",
       "</table>\n",
       "</div>"
      ],
      "text/plain": [
       "                Yas Meslek\n",
       "Persona Isim              \n",
       "Tavsan  bugs     40      A\n",
       "        bunny    10      B\n",
       "        bart     30      C\n",
       "Avci    cartman  50      D\n",
       "        kenny    60      E\n",
       "        homer     9      F"
      ]
     },
     "execution_count": 42,
     "metadata": {},
     "output_type": "execute_result"
    }
   ],
   "source": [
    "cizgiFilmDataFrame"
   ]
  },
  {
   "cell_type": "code",
   "execution_count": null,
   "id": "9c392722-a25a-40f3-b8e1-56c037f55e4c",
   "metadata": {},
   "outputs": [],
   "source": []
  },
  {
   "cell_type": "code",
   "execution_count": null,
   "id": "458f5d08-73ec-4b27-a6c5-18d2bb039fd5",
   "metadata": {},
   "outputs": [],
   "source": []
  },
  {
   "cell_type": "code",
   "execution_count": null,
   "id": "780ffbde-d469-40f7-ac86-9a8faf3a9d9c",
   "metadata": {},
   "outputs": [],
   "source": []
  },
  {
   "cell_type": "code",
   "execution_count": null,
   "id": "87111043-5917-4d65-918a-c0b77ae3891a",
   "metadata": {},
   "outputs": [],
   "source": []
  },
  {
   "cell_type": "code",
   "execution_count": null,
   "id": "55a418f1-3729-4731-8c35-8cd2d1686ac5",
   "metadata": {},
   "outputs": [],
   "source": []
  },
  {
   "cell_type": "code",
   "execution_count": null,
   "id": "eac41ca7-58c5-4719-9707-99651965c8f2",
   "metadata": {},
   "outputs": [],
   "source": []
  },
  {
   "cell_type": "code",
   "execution_count": null,
   "id": "c173fec6-41b7-4682-bd41-aac9063db58b",
   "metadata": {},
   "outputs": [],
   "source": []
  },
  {
   "cell_type": "code",
   "execution_count": null,
   "id": "b2799031-bfe8-49a2-a53b-b585485e2561",
   "metadata": {},
   "outputs": [],
   "source": []
  },
  {
   "cell_type": "code",
   "execution_count": null,
   "id": "77c392be-57d1-4ede-9fd4-42e65dba4c4c",
   "metadata": {},
   "outputs": [],
   "source": []
  },
  {
   "cell_type": "code",
   "execution_count": null,
   "id": "8e87b805-8017-428a-b80c-968a5562029b",
   "metadata": {},
   "outputs": [],
   "source": []
  },
  {
   "cell_type": "code",
   "execution_count": null,
   "id": "c9d016bf-3f7b-4cc0-be7c-a57433574905",
   "metadata": {},
   "outputs": [],
   "source": []
  },
  {
   "cell_type": "code",
   "execution_count": null,
   "id": "9c9e2eb5-a660-4383-9f80-d3ab33b48415",
   "metadata": {},
   "outputs": [],
   "source": []
  },
  {
   "cell_type": "code",
   "execution_count": null,
   "id": "5933b557-88fd-445b-b85d-e57b67f6cbca",
   "metadata": {},
   "outputs": [],
   "source": []
  },
  {
   "cell_type": "code",
   "execution_count": null,
   "id": "186c0565-8858-48cf-827c-074a99aa7737",
   "metadata": {},
   "outputs": [],
   "source": []
  },
  {
   "cell_type": "code",
   "execution_count": null,
   "id": "4980a147-2e55-401f-9e0a-b46ee6ddd14f",
   "metadata": {},
   "outputs": [],
   "source": []
  },
  {
   "cell_type": "code",
   "execution_count": null,
   "id": "e44aaac3-d75b-462c-be1b-abce475e72b0",
   "metadata": {},
   "outputs": [],
   "source": []
  },
  {
   "cell_type": "code",
   "execution_count": null,
   "id": "a913e33d-110c-4d4a-99eb-447707efcd99",
   "metadata": {},
   "outputs": [],
   "source": []
  }
 ],
 "metadata": {
  "kernelspec": {
   "display_name": "Python 3 (ipykernel)",
   "language": "python",
   "name": "python3"
  },
  "language_info": {
   "codemirror_mode": {
    "name": "ipython",
    "version": 3
   },
   "file_extension": ".py",
   "mimetype": "text/x-python",
   "name": "python",
   "nbconvert_exporter": "python",
   "pygments_lexer": "ipython3",
   "version": "3.12.7"
  }
 },
 "nbformat": 4,
 "nbformat_minor": 5
}
