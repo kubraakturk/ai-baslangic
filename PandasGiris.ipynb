{
 "cells": [
  {
   "cell_type": "code",
   "execution_count": 1,
   "id": "9558d0aa-98e0-499a-81f9-8301a95b37d9",
   "metadata": {},
   "outputs": [],
   "source": [
    "import numpy as np\n",
    "import pandas as pd"
   ]
  },
  {
   "cell_type": "code",
   "execution_count": null,
   "id": "dca5f226-1a00-420d-9ffd-108888cd365b",
   "metadata": {},
   "outputs": [],
   "source": []
  },
  {
   "cell_type": "code",
   "execution_count": null,
   "id": "c9ab83a5-05d0-4a6f-bf6b-a3ba4fdd2dd5",
   "metadata": {},
   "outputs": [],
   "source": []
  },
  {
   "cell_type": "markdown",
   "id": "42308d05-3e33-4315-b7f5-8720b898f33c",
   "metadata": {},
   "source": [
    "## Series / Seriler"
   ]
  },
  {
   "cell_type": "code",
   "execution_count": 2,
   "id": "1a128a03-caac-4906-844f-ee37641de463",
   "metadata": {},
   "outputs": [],
   "source": [
    "benimSozlugum = {\"Kubra\" : 31, \"Zeynep\": 40, \"Meryem\": 25}"
   ]
  },
  {
   "cell_type": "code",
   "execution_count": 3,
   "id": "b473cc8b-a556-4d4f-ad27-3bd244802ed3",
   "metadata": {},
   "outputs": [
    {
     "data": {
      "text/plain": [
       "Kubra     31\n",
       "Zeynep    40\n",
       "Meryem    25\n",
       "dtype: int64"
      ]
     },
     "execution_count": 3,
     "metadata": {},
     "output_type": "execute_result"
    }
   ],
   "source": [
    "pd.Series(benimSozlugum)"
   ]
  },
  {
   "cell_type": "code",
   "execution_count": 4,
   "id": "561dfde2-12df-459c-be2d-b710f1f44cf9",
   "metadata": {},
   "outputs": [],
   "source": [
    "benimYaslarim = [31,40,25]\n",
    "benimIsimlerim = [\"Kubra\",\"Zeynep\",\"Meryem\"]"
   ]
  },
  {
   "cell_type": "code",
   "execution_count": 5,
   "id": "7be591f1-8af5-45e3-b266-8437341069a7",
   "metadata": {},
   "outputs": [
    {
     "data": {
      "text/plain": [
       "Kubra     31\n",
       "Zeynep    40\n",
       "Meryem    25\n",
       "dtype: int64"
      ]
     },
     "execution_count": 5,
     "metadata": {},
     "output_type": "execute_result"
    }
   ],
   "source": [
    "pd.Series(benimYaslarim,benimIsimlerim)"
   ]
  },
  {
   "cell_type": "code",
   "execution_count": 6,
   "id": "04773d65-c4a9-4b26-bb37-18082820200a",
   "metadata": {},
   "outputs": [
    {
     "data": {
      "text/plain": [
       "Kubra     31\n",
       "Zeynep    40\n",
       "Meryem    25\n",
       "dtype: int64"
      ]
     },
     "execution_count": 6,
     "metadata": {},
     "output_type": "execute_result"
    }
   ],
   "source": [
    "pd.Series(data=benimYaslarim, index=benimIsimlerim)"
   ]
  },
  {
   "cell_type": "code",
   "execution_count": 3,
   "id": "82f987a7-6163-47d3-a762-9a01a2f7b5ab",
   "metadata": {},
   "outputs": [
    {
     "data": {
      "text/plain": [
       "1     Kubra\n",
       "2    Zeynep\n",
       "3    Meryem\n",
       "dtype: object"
      ]
     },
     "execution_count": 3,
     "metadata": {},
     "output_type": "execute_result"
    }
   ],
   "source": [
    "pd.Series([\"Kubra\",\"Zeynep\",\"Meryem\"],[1,2,3])"
   ]
  },
  {
   "cell_type": "code",
   "execution_count": 4,
   "id": "a2af5717-05b6-46b9-8a41-ce6403510103",
   "metadata": {},
   "outputs": [],
   "source": [
    "yarismaSonucu1= pd.Series([10,5,1],[\"Kubra\",\"Zeynep\",\"Meryem\"])"
   ]
  },
  {
   "cell_type": "code",
   "execution_count": 5,
   "id": "e76f839d-2b94-4ef0-8cef-59af8cdfb33e",
   "metadata": {},
   "outputs": [],
   "source": [
    "yarismaSonucu2= pd.Series([80,55,10],[\"Kubra\",\"Zeynep\",\"Meryem\"])"
   ]
  },
  {
   "cell_type": "code",
   "execution_count": 6,
   "id": "36b43c64-7de9-47ac-abb9-2a4fead6416d",
   "metadata": {},
   "outputs": [
    {
     "data": {
      "text/plain": [
       "Kubra     10\n",
       "Zeynep     5\n",
       "Meryem     1\n",
       "dtype: int64"
      ]
     },
     "execution_count": 6,
     "metadata": {},
     "output_type": "execute_result"
    }
   ],
   "source": [
    "yarismaSonucu1"
   ]
  },
  {
   "cell_type": "code",
   "execution_count": 7,
   "id": "acb18395-47d6-452f-b158-a507aba8e1f5",
   "metadata": {},
   "outputs": [
    {
     "data": {
      "text/plain": [
       "Kubra     80\n",
       "Zeynep    55\n",
       "Meryem    10\n",
       "dtype: int64"
      ]
     },
     "execution_count": 7,
     "metadata": {},
     "output_type": "execute_result"
    }
   ],
   "source": [
    "yarismaSonucu2"
   ]
  },
  {
   "cell_type": "code",
   "execution_count": 8,
   "id": "0fb39ce8-453f-49b4-b85a-af8e037e3448",
   "metadata": {},
   "outputs": [],
   "source": [
    "sonSonuc = yarismaSonucu1 + yarismaSonucu2"
   ]
  },
  {
   "cell_type": "code",
   "execution_count": 9,
   "id": "2339c37b-2ac1-4dde-8c15-cb4a18a196bf",
   "metadata": {},
   "outputs": [
    {
     "data": {
      "text/plain": [
       "Kubra     90\n",
       "Zeynep    60\n",
       "Meryem    11\n",
       "dtype: int64"
      ]
     },
     "execution_count": 9,
     "metadata": {},
     "output_type": "execute_result"
    }
   ],
   "source": [
    "sonSonuc"
   ]
  },
  {
   "cell_type": "code",
   "execution_count": null,
   "id": "29371ca6-c159-4541-994d-0d65f491cab2",
   "metadata": {},
   "outputs": [],
   "source": []
  },
  {
   "cell_type": "code",
   "execution_count": null,
   "id": "539a380e-166c-429d-9436-54552de4dcc4",
   "metadata": {},
   "outputs": [],
   "source": []
  }
 ],
 "metadata": {
  "kernelspec": {
   "display_name": "Python 3 (ipykernel)",
   "language": "python",
   "name": "python3"
  },
  "language_info": {
   "codemirror_mode": {
    "name": "ipython",
    "version": 3
   },
   "file_extension": ".py",
   "mimetype": "text/x-python",
   "name": "python",
   "nbconvert_exporter": "python",
   "pygments_lexer": "ipython3",
   "version": "3.12.7"
  }
 },
 "nbformat": 4,
 "nbformat_minor": 5
}
